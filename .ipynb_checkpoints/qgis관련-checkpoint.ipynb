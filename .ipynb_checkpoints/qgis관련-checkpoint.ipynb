{
 "cells": [
  {
   "cell_type": "code",
   "execution_count": 1,
   "metadata": {},
   "outputs": [],
   "source": [
    "import pandas as pd\n",
    "import numpy as np\n",
    "import time\n",
    "import shapefile"
   ]
  },
  {
   "cell_type": "code",
   "execution_count": 5,
   "metadata": {},
   "outputs": [
    {
     "data": {
      "text/html": [
       "<div>\n",
       "<style scoped>\n",
       "    .dataframe tbody tr th:only-of-type {\n",
       "        vertical-align: middle;\n",
       "    }\n",
       "\n",
       "    .dataframe tbody tr th {\n",
       "        vertical-align: top;\n",
       "    }\n",
       "\n",
       "    .dataframe thead th {\n",
       "        text-align: right;\n",
       "    }\n",
       "</style>\n",
       "<table border=\"1\" class=\"dataframe\">\n",
       "  <thead>\n",
       "    <tr style=\"text-align: right;\">\n",
       "      <th></th>\n",
       "      <th>NODE_ID</th>\n",
       "      <th>NODE_TYPE</th>\n",
       "      <th>NODE_NAME</th>\n",
       "      <th>TURN_P</th>\n",
       "      <th>REMARK</th>\n",
       "      <th>USER_ID</th>\n",
       "      <th>WORKSTATE</th>\n",
       "      <th>DEPT_CODE</th>\n",
       "      <th>STNL_REG</th>\n",
       "      <th>TMPID</th>\n",
       "      <th>UPLOAD_ID</th>\n",
       "    </tr>\n",
       "  </thead>\n",
       "  <tbody>\n",
       "    <tr>\n",
       "      <th>0</th>\n",
       "      <td>3330017400</td>\n",
       "      <td>101</td>\n",
       "      <td>고읍교차로</td>\n",
       "      <td>0</td>\n",
       "      <td>NaN</td>\n",
       "      <td>korea</td>\n",
       "      <td>5</td>\n",
       "      <td>NaN</td>\n",
       "      <td>333</td>\n",
       "      <td>OEXT3330017400</td>\n",
       "      <td>NaN</td>\n",
       "    </tr>\n",
       "    <tr>\n",
       "      <th>1</th>\n",
       "      <td>3330016500</td>\n",
       "      <td>104</td>\n",
       "      <td>벌교터널</td>\n",
       "      <td>0</td>\n",
       "      <td>NaN</td>\n",
       "      <td>korea</td>\n",
       "      <td>5</td>\n",
       "      <td>NaN</td>\n",
       "      <td>333</td>\n",
       "      <td>OEXT3330016500</td>\n",
       "      <td>NaN</td>\n",
       "    </tr>\n",
       "    <tr>\n",
       "      <th>2</th>\n",
       "      <td>3330015600</td>\n",
       "      <td>104</td>\n",
       "      <td>벌교터널</td>\n",
       "      <td>0</td>\n",
       "      <td>NaN</td>\n",
       "      <td>korea</td>\n",
       "      <td>5</td>\n",
       "      <td>NaN</td>\n",
       "      <td>333</td>\n",
       "      <td>OEXT3330015600</td>\n",
       "      <td>NaN</td>\n",
       "    </tr>\n",
       "    <tr>\n",
       "      <th>3</th>\n",
       "      <td>3330014900</td>\n",
       "      <td>101</td>\n",
       "      <td>벌교교차로</td>\n",
       "      <td>0</td>\n",
       "      <td>NaN</td>\n",
       "      <td>korea</td>\n",
       "      <td>5</td>\n",
       "      <td>NaN</td>\n",
       "      <td>333</td>\n",
       "      <td>OEXT3330014900</td>\n",
       "      <td>NaN</td>\n",
       "    </tr>\n",
       "    <tr>\n",
       "      <th>4</th>\n",
       "      <td>3330014600</td>\n",
       "      <td>101</td>\n",
       "      <td>벌교교차로</td>\n",
       "      <td>0</td>\n",
       "      <td>NaN</td>\n",
       "      <td>korea</td>\n",
       "      <td>5</td>\n",
       "      <td>NaN</td>\n",
       "      <td>333</td>\n",
       "      <td>OEXT3330014600</td>\n",
       "      <td>NaN</td>\n",
       "    </tr>\n",
       "  </tbody>\n",
       "</table>\n",
       "</div>"
      ],
      "text/plain": [
       "      NODE_ID  NODE_TYPE NODE_NAME  TURN_P REMARK USER_ID  WORKSTATE  \\\n",
       "0  3330017400        101     고읍교차로       0    NaN   korea          5   \n",
       "1  3330016500        104      벌교터널       0    NaN   korea          5   \n",
       "2  3330015600        104      벌교터널       0    NaN   korea          5   \n",
       "3  3330014900        101     벌교교차로       0    NaN   korea          5   \n",
       "4  3330014600        101     벌교교차로       0    NaN   korea          5   \n",
       "\n",
       "   DEPT_CODE  STNL_REG           TMPID UPLOAD_ID  \n",
       "0        NaN       333  OEXT3330017400       NaN  \n",
       "1        NaN       333  OEXT3330016500       NaN  \n",
       "2        NaN       333  OEXT3330015600       NaN  \n",
       "3        NaN       333  OEXT3330014900       NaN  \n",
       "4        NaN       333  OEXT3330014600       NaN  "
      ]
     },
     "execution_count": 5,
     "metadata": {},
     "output_type": "execute_result"
    }
   ],
   "source": [
    "df1 = pd.read_csv('node190813.csv',sep=\",\",encoding='CP949')\n",
    "df1.head(5)"
   ]
  },
  {
   "cell_type": "code",
   "execution_count": 2,
   "metadata": {},
   "outputs": [],
   "source": [
    " def Read_shf(filename)\n",
    "    #filename=\"../datas/node/MOCT_NODE.shp\"\n",
    "    sf = shapefile.Reader(filename,encoding=\"CP949\")\n",
    "\n",
    "    records = sf.records()\n",
    "\n",
    "    print(len(records))\n",
    "\n",
    "    cols = []\n",
    "    for field in sf.fields[1:]:\n",
    "        cols.append(field[0])\n",
    "\n",
    "    df2 = pd.DataFrame(records,columns=cols)\n",
    "\n",
    "    df2=df2.drop(cols[3:12],1)\n",
    "\n",
    "    df2.head(3)"
   ]
  },
  {
   "cell_type": "code",
   "execution_count": 3,
   "metadata": {},
   "outputs": [
    {
     "name": "stdout",
     "output_type": "stream",
     "text": [
      "120700\n"
     ]
    },
    {
     "data": {
      "text/html": [
       "<div>\n",
       "<style scoped>\n",
       "    .dataframe tbody tr th:only-of-type {\n",
       "        vertical-align: middle;\n",
       "    }\n",
       "\n",
       "    .dataframe tbody tr th {\n",
       "        vertical-align: top;\n",
       "    }\n",
       "\n",
       "    .dataframe thead th {\n",
       "        text-align: right;\n",
       "    }\n",
       "</style>\n",
       "<table border=\"1\" class=\"dataframe\">\n",
       "  <thead>\n",
       "    <tr style=\"text-align: right;\">\n",
       "      <th></th>\n",
       "      <th>NODE_ID</th>\n",
       "      <th>NODE_TYPE</th>\n",
       "      <th>NODE_NAME</th>\n",
       "      <th>x</th>\n",
       "      <th>y</th>\n",
       "    </tr>\n",
       "  </thead>\n",
       "  <tbody>\n",
       "    <tr>\n",
       "      <th>0</th>\n",
       "      <td>3330017400</td>\n",
       "      <td>101</td>\n",
       "      <td>고읍교차로</td>\n",
       "      <td>229757.357</td>\n",
       "      <td>251792.791</td>\n",
       "    </tr>\n",
       "    <tr>\n",
       "      <th>1</th>\n",
       "      <td>3330016500</td>\n",
       "      <td>104</td>\n",
       "      <td>벌교터널</td>\n",
       "      <td>229535.218</td>\n",
       "      <td>250194.520</td>\n",
       "    </tr>\n",
       "    <tr>\n",
       "      <th>2</th>\n",
       "      <td>3330015600</td>\n",
       "      <td>104</td>\n",
       "      <td>벌교터널</td>\n",
       "      <td>229465.270</td>\n",
       "      <td>249416.523</td>\n",
       "    </tr>\n",
       "  </tbody>\n",
       "</table>\n",
       "</div>"
      ],
      "text/plain": [
       "      NODE_ID NODE_TYPE NODE_NAME           x           y\n",
       "0  3330017400       101     고읍교차로  229757.357  251792.791\n",
       "1  3330016500       104      벌교터널  229535.218  250194.520\n",
       "2  3330015600       104      벌교터널  229465.270  249416.523"
      ]
     },
     "execution_count": 3,
     "metadata": {},
     "output_type": "execute_result"
    }
   ],
   "source": []
  },
  {
   "cell_type": "code",
   "execution_count": null,
   "metadata": {},
   "outputs": [],
   "source": []
  },
  {
   "cell_type": "code",
   "execution_count": null,
   "metadata": {},
   "outputs": [],
   "source": []
  },
  {
   "cell_type": "code",
   "execution_count": null,
   "metadata": {},
   "outputs": [],
   "source": []
  },
  {
   "cell_type": "code",
   "execution_count": 30,
   "metadata": {},
   "outputs": [
    {
     "name": "stdout",
     "output_type": "stream",
     "text": [
      "['TURN_P', 'REMARK', 'USER_ID', 'WORKSTATE', 'DEPT_CODE', 'STNL_REG', 'TMPID', 'UPLOAD_ID', 'x좌표']\n"
     ]
    }
   ],
   "source": [
    "print(cols[3:12])"
   ]
  },
  {
   "cell_type": "code",
   "execution_count": 1,
   "metadata": {},
   "outputs": [
    {
     "name": "stdout",
     "output_type": "stream",
     "text": [
      "Collecting pyshp\n",
      "  Downloading https://files.pythonhosted.org/packages/27/16/3bf15aa864fb77845fab8007eda22c2bd67bd6c1fd13496df452c8c43621/pyshp-2.1.0.tar.gz (215kB)\n",
      "Building wheels for collected packages: pyshp\n",
      "  Building wheel for pyshp (setup.py): started\n",
      "  Building wheel for pyshp (setup.py): finished with status 'done'\n",
      "  Created wheel for pyshp: filename=pyshp-2.1.0-cp37-none-any.whl size=32613 sha256=7a7d0dbe4d961656cd9fe28405c2bdac54d39f3a5f28744269fb78760b35d176\n",
      "  Stored in directory: C:\\Users\\njh\\AppData\\Local\\pip\\Cache\\wheels\\a6\\0c\\de\\321b5192ad416b328975a2f0385f72c64db4656501eba7cc1a\n",
      "Successfully built pyshp\n",
      "Installing collected packages: pyshp\n",
      "Successfully installed pyshp-2.1.0\n",
      "Note: you may need to restart the kernel to use updated packages.\n"
     ]
    },
    {
     "name": "stderr",
     "output_type": "stream",
     "text": [
      "WARNING: You are using pip version 19.2.1, however version 19.2.2 is available.\n",
      "You should consider upgrading via the 'python -m pip install --upgrade pip' command.\n"
     ]
    }
   ],
   "source": [
    "pip install pyshp"
   ]
  },
  {
   "cell_type": "code",
   "execution_count": null,
   "metadata": {},
   "outputs": [],
   "source": []
  }
 ],
 "metadata": {
  "kernelspec": {
   "display_name": "Python 3",
   "language": "python",
   "name": "python3"
  },
  "language_info": {
   "codemirror_mode": {
    "name": "ipython",
    "version": 3
   },
   "file_extension": ".py",
   "mimetype": "text/x-python",
   "name": "python",
   "nbconvert_exporter": "python",
   "pygments_lexer": "ipython3",
   "version": "3.7.3"
  }
 },
 "nbformat": 4,
 "nbformat_minor": 2
}
