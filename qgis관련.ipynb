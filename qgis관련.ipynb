{
 "cells": [
  {
   "cell_type": "code",
   "execution_count": 1,
   "metadata": {},
   "outputs": [],
   "source": [
    "import pandas as pd\n",
    "import numpy as np\n",
    "import time\n",
    "import shapefile\n",
    "try:\n",
    "    from tqdm import tqdm\n",
    "except:\n",
    "    !pip install tqdm"
   ]
  },
  {
   "cell_type": "code",
   "execution_count": 5,
   "metadata": {},
   "outputs": [
    {
     "data": {
      "text/html": [
       "<div>\n",
       "<style scoped>\n",
       "    .dataframe tbody tr th:only-of-type {\n",
       "        vertical-align: middle;\n",
       "    }\n",
       "\n",
       "    .dataframe tbody tr th {\n",
       "        vertical-align: top;\n",
       "    }\n",
       "\n",
       "    .dataframe thead th {\n",
       "        text-align: right;\n",
       "    }\n",
       "</style>\n",
       "<table border=\"1\" class=\"dataframe\">\n",
       "  <thead>\n",
       "    <tr style=\"text-align: right;\">\n",
       "      <th></th>\n",
       "      <th>NODE_ID</th>\n",
       "      <th>NODE_TYPE</th>\n",
       "      <th>NODE_NAME</th>\n",
       "      <th>TURN_P</th>\n",
       "      <th>REMARK</th>\n",
       "      <th>USER_ID</th>\n",
       "      <th>WORKSTATE</th>\n",
       "      <th>DEPT_CODE</th>\n",
       "      <th>STNL_REG</th>\n",
       "      <th>TMPID</th>\n",
       "      <th>UPLOAD_ID</th>\n",
       "    </tr>\n",
       "  </thead>\n",
       "  <tbody>\n",
       "    <tr>\n",
       "      <th>0</th>\n",
       "      <td>3330017400</td>\n",
       "      <td>101</td>\n",
       "      <td>고읍교차로</td>\n",
       "      <td>0</td>\n",
       "      <td>NaN</td>\n",
       "      <td>korea</td>\n",
       "      <td>5</td>\n",
       "      <td>NaN</td>\n",
       "      <td>333</td>\n",
       "      <td>OEXT3330017400</td>\n",
       "      <td>NaN</td>\n",
       "    </tr>\n",
       "    <tr>\n",
       "      <th>1</th>\n",
       "      <td>3330016500</td>\n",
       "      <td>104</td>\n",
       "      <td>벌교터널</td>\n",
       "      <td>0</td>\n",
       "      <td>NaN</td>\n",
       "      <td>korea</td>\n",
       "      <td>5</td>\n",
       "      <td>NaN</td>\n",
       "      <td>333</td>\n",
       "      <td>OEXT3330016500</td>\n",
       "      <td>NaN</td>\n",
       "    </tr>\n",
       "    <tr>\n",
       "      <th>2</th>\n",
       "      <td>3330015600</td>\n",
       "      <td>104</td>\n",
       "      <td>벌교터널</td>\n",
       "      <td>0</td>\n",
       "      <td>NaN</td>\n",
       "      <td>korea</td>\n",
       "      <td>5</td>\n",
       "      <td>NaN</td>\n",
       "      <td>333</td>\n",
       "      <td>OEXT3330015600</td>\n",
       "      <td>NaN</td>\n",
       "    </tr>\n",
       "    <tr>\n",
       "      <th>3</th>\n",
       "      <td>3330014900</td>\n",
       "      <td>101</td>\n",
       "      <td>벌교교차로</td>\n",
       "      <td>0</td>\n",
       "      <td>NaN</td>\n",
       "      <td>korea</td>\n",
       "      <td>5</td>\n",
       "      <td>NaN</td>\n",
       "      <td>333</td>\n",
       "      <td>OEXT3330014900</td>\n",
       "      <td>NaN</td>\n",
       "    </tr>\n",
       "    <tr>\n",
       "      <th>4</th>\n",
       "      <td>3330014600</td>\n",
       "      <td>101</td>\n",
       "      <td>벌교교차로</td>\n",
       "      <td>0</td>\n",
       "      <td>NaN</td>\n",
       "      <td>korea</td>\n",
       "      <td>5</td>\n",
       "      <td>NaN</td>\n",
       "      <td>333</td>\n",
       "      <td>OEXT3330014600</td>\n",
       "      <td>NaN</td>\n",
       "    </tr>\n",
       "  </tbody>\n",
       "</table>\n",
       "</div>"
      ],
      "text/plain": [
       "      NODE_ID  NODE_TYPE NODE_NAME  TURN_P REMARK USER_ID  WORKSTATE  \\\n",
       "0  3330017400        101     고읍교차로       0    NaN   korea          5   \n",
       "1  3330016500        104      벌교터널       0    NaN   korea          5   \n",
       "2  3330015600        104      벌교터널       0    NaN   korea          5   \n",
       "3  3330014900        101     벌교교차로       0    NaN   korea          5   \n",
       "4  3330014600        101     벌교교차로       0    NaN   korea          5   \n",
       "\n",
       "   DEPT_CODE  STNL_REG           TMPID UPLOAD_ID  \n",
       "0        NaN       333  OEXT3330017400       NaN  \n",
       "1        NaN       333  OEXT3330016500       NaN  \n",
       "2        NaN       333  OEXT3330015600       NaN  \n",
       "3        NaN       333  OEXT3330014900       NaN  \n",
       "4        NaN       333  OEXT3330014600       NaN  "
      ]
     },
     "execution_count": 5,
     "metadata": {},
     "output_type": "execute_result"
    }
   ],
   "source": [
    "df1 = pd.read_csv('node190813.csv',sep=\",\",encoding='CP949')\n",
    "df1.head(5)"
   ]
  },
  {
   "cell_type": "code",
   "execution_count": 2,
   "metadata": {},
   "outputs": [],
   "source": [
    "def Read_shf(filename):\n",
    "    #filename=\"../datas/node/MOCT_NODE.shp\"\n",
    "    try:\n",
    "        sf = shapefile.Reader(filename,encoding=\"CP949\")\n",
    "   \n",
    "        records = sf.records()\n",
    "\n",
    "        print(\"%s : %d\"%(filename.split('/')[-1],len(records)))\n",
    "\n",
    "        cols = []\n",
    "        for field in sf.fields[1:]:\n",
    "            cols.append(field[0])\n",
    "\n",
    "        df = pd.DataFrame(records,columns=cols)\n",
    "\n",
    "        #df=df.drop(cols[3:12],1)\n",
    "        #print(df.head(3))\n",
    "        \n",
    "        return df\n",
    "    \n",
    "    except Exception as ex:\n",
    "        print('에러 발생 :', ex) \n",
    "    "
   ]
  },
  {
   "cell_type": "code",
   "execution_count": 3,
   "metadata": {},
   "outputs": [
    {
     "name": "stdout",
     "output_type": "stream",
     "text": [
      "link2_highway.shp : 10078\n",
      "node2_icjc.shp : 4312\n",
      "MOCT_NODE.shp : 120700\n"
     ]
    }
   ],
   "source": [
    "df1 = Read_shf(\"../datas/node/link2_highway.shp\")\n",
    "df2 = Read_shf(\"../datas/node/node2_icjc.shp\")\n",
    "df3 = Read_shf('../datas/node/MOCT_NODE.shp')"
   ]
  },
  {
   "cell_type": "code",
   "execution_count": 7,
   "metadata": {},
   "outputs": [],
   "source": [
    "#df1.head(5)\n",
    "df4=df1[df1['ROAD_NAME']=='경부고속도로']\n",
    "df4.to_csv(r'link_hw_kb.csv')"
   ]
  },
  {
   "cell_type": "code",
   "execution_count": 8,
   "metadata": {},
   "outputs": [
    {
     "name": "stdout",
     "output_type": "stream",
     "text": [
      "4364\n",
      "4897\n"
     ]
    }
   ],
   "source": [
    "a = list(set(df1['F_NODE']))\n",
    "a1 = list(set(df1['T_NODE']))\n",
    "b = []\n",
    "nb = []\n",
    "for nid in a:\n",
    "    if nid in list(df2['NODE_ID']):\n",
    "        b.append(nid)\n",
    "    else:\n",
    "        nb.append(nid)\n",
    "\n",
    "for nid in a1:\n",
    "    if nid in list(df2['NODE_ID']):\n",
    "        b.append(nid)\n",
    "    else:\n",
    "        nb.append(nid)\n",
    "\n",
    "print(len(b))\n",
    "print(len(nb))"
   ]
  },
  {
   "cell_type": "code",
   "execution_count": 9,
   "metadata": {},
   "outputs": [
    {
     "name": "stdout",
     "output_type": "stream",
     "text": [
      "['1840057200', '3120027400', '2330155800', '3110016700', '3650167800']\n",
      "['2210001000', '1660001700', '2670088000', '2860035200', '2740020800']\n"
     ]
    }
   ],
   "source": [
    "print(nb[:5])\n",
    "print(b[:5])"
   ]
  },
  {
   "cell_type": "code",
   "execution_count": 34,
   "metadata": {},
   "outputs": [
    {
     "data": {
      "text/html": [
       "<div>\n",
       "<style scoped>\n",
       "    .dataframe tbody tr th:only-of-type {\n",
       "        vertical-align: middle;\n",
       "    }\n",
       "\n",
       "    .dataframe tbody tr th {\n",
       "        vertical-align: top;\n",
       "    }\n",
       "\n",
       "    .dataframe thead th {\n",
       "        text-align: right;\n",
       "    }\n",
       "</style>\n",
       "<table border=\"1\" class=\"dataframe\">\n",
       "  <thead>\n",
       "    <tr style=\"text-align: right;\">\n",
       "      <th></th>\n",
       "      <th>NODE_ID</th>\n",
       "      <th>NODE_TYPE</th>\n",
       "      <th>NODE_NAME</th>\n",
       "      <th>TURN_P</th>\n",
       "      <th>REMARK</th>\n",
       "      <th>USER_ID</th>\n",
       "      <th>WORKSTATE</th>\n",
       "      <th>DEPT_CODE</th>\n",
       "      <th>STNL_REG</th>\n",
       "      <th>TMPID</th>\n",
       "      <th>UPLOAD_ID</th>\n",
       "      <th>x좌표</th>\n",
       "      <th>x</th>\n",
       "      <th>y</th>\n",
       "    </tr>\n",
       "  </thead>\n",
       "  <tbody>\n",
       "    <tr>\n",
       "      <th>0</th>\n",
       "      <td>3330017400</td>\n",
       "      <td>101</td>\n",
       "      <td>고읍교차로</td>\n",
       "      <td>0</td>\n",
       "      <td></td>\n",
       "      <td>korea</td>\n",
       "      <td>5</td>\n",
       "      <td></td>\n",
       "      <td>333</td>\n",
       "      <td>OEXT3330017400</td>\n",
       "      <td></td>\n",
       "      <td>229757</td>\n",
       "      <td>229757.357</td>\n",
       "      <td>251792.791</td>\n",
       "    </tr>\n",
       "    <tr>\n",
       "      <th>1</th>\n",
       "      <td>3330016500</td>\n",
       "      <td>104</td>\n",
       "      <td>벌교터널</td>\n",
       "      <td>0</td>\n",
       "      <td></td>\n",
       "      <td>korea</td>\n",
       "      <td>5</td>\n",
       "      <td></td>\n",
       "      <td>333</td>\n",
       "      <td>OEXT3330016500</td>\n",
       "      <td></td>\n",
       "      <td>229535</td>\n",
       "      <td>229535.218</td>\n",
       "      <td>250194.520</td>\n",
       "    </tr>\n",
       "    <tr>\n",
       "      <th>2</th>\n",
       "      <td>3330015600</td>\n",
       "      <td>104</td>\n",
       "      <td>벌교터널</td>\n",
       "      <td>0</td>\n",
       "      <td></td>\n",
       "      <td>korea</td>\n",
       "      <td>5</td>\n",
       "      <td></td>\n",
       "      <td>333</td>\n",
       "      <td>OEXT3330015600</td>\n",
       "      <td></td>\n",
       "      <td>229465</td>\n",
       "      <td>229465.270</td>\n",
       "      <td>249416.523</td>\n",
       "    </tr>\n",
       "    <tr>\n",
       "      <th>3</th>\n",
       "      <td>3330014900</td>\n",
       "      <td>101</td>\n",
       "      <td>벌교교차로</td>\n",
       "      <td>0</td>\n",
       "      <td></td>\n",
       "      <td>korea</td>\n",
       "      <td>5</td>\n",
       "      <td></td>\n",
       "      <td>333</td>\n",
       "      <td>OEXT3330014900</td>\n",
       "      <td></td>\n",
       "      <td>229456</td>\n",
       "      <td>229455.641</td>\n",
       "      <td>249249.001</td>\n",
       "    </tr>\n",
       "    <tr>\n",
       "      <th>4</th>\n",
       "      <td>3330014600</td>\n",
       "      <td>101</td>\n",
       "      <td>벌교교차로</td>\n",
       "      <td>0</td>\n",
       "      <td></td>\n",
       "      <td>korea</td>\n",
       "      <td>5</td>\n",
       "      <td></td>\n",
       "      <td>333</td>\n",
       "      <td>OEXT3330014600</td>\n",
       "      <td></td>\n",
       "      <td>229413</td>\n",
       "      <td>229412.604</td>\n",
       "      <td>249169.926</td>\n",
       "    </tr>\n",
       "  </tbody>\n",
       "</table>\n",
       "</div>"
      ],
      "text/plain": [
       "      NODE_ID NODE_TYPE NODE_NAME TURN_P REMARK USER_ID WORKSTATE DEPT_CODE  \\\n",
       "0  3330017400       101     고읍교차로      0          korea         5             \n",
       "1  3330016500       104      벌교터널      0          korea         5             \n",
       "2  3330015600       104      벌교터널      0          korea         5             \n",
       "3  3330014900       101     벌교교차로      0          korea         5             \n",
       "4  3330014600       101     벌교교차로      0          korea         5             \n",
       "\n",
       "  STNL_REG           TMPID UPLOAD_ID     x좌표           x           y  \n",
       "0      333  OEXT3330017400            229757  229757.357  251792.791  \n",
       "1      333  OEXT3330016500            229535  229535.218  250194.520  \n",
       "2      333  OEXT3330015600            229465  229465.270  249416.523  \n",
       "3      333  OEXT3330014900            229456  229455.641  249249.001  \n",
       "4      333  OEXT3330014600            229413  229412.604  249169.926  "
      ]
     },
     "execution_count": 34,
     "metadata": {},
     "output_type": "execute_result"
    }
   ],
   "source": [
    "df3.head(5)"
   ]
  },
  {
   "cell_type": "code",
   "execution_count": 33,
   "metadata": {},
   "outputs": [
    {
     "name": "stderr",
     "output_type": "stream",
     "text": [
      "  0%|                                                                                        | 0/10078 [00:00<?, ?it/s]"
     ]
    },
    {
     "name": "stdout",
     "output_type": "stream",
     "text": [
      "LINK_ID\n"
     ]
    },
    {
     "name": "stderr",
     "output_type": "stream",
     "text": [
      "\n"
     ]
    },
    {
     "name": "stdout",
     "output_type": "stream",
     "text": [
      "0 / 0 \n"
     ]
    }
   ],
   "source": [
    "df4 = []\n",
    "count=0\n",
    "no=0\n",
    "\n",
    "for nbb in tqdm(nb,mininterval=1):\n",
    "    #nbb2 = str(nbb)\n",
    "    if nbb in list(df3['NODE_ID']):\n",
    "        count+=1\n",
    "    else:\n",
    "        no+=1\n",
    "print('%d / %d '%(count,(count+no)))"
   ]
  },
  {
   "cell_type": "code",
   "execution_count": null,
   "metadata": {},
   "outputs": [],
   "source": []
  },
  {
   "cell_type": "code",
   "execution_count": 30,
   "metadata": {},
   "outputs": [],
   "source": []
  },
  {
   "cell_type": "code",
   "execution_count": 25,
   "metadata": {},
   "outputs": [
    {
     "data": {
      "text/html": [
       "<div>\n",
       "<style scoped>\n",
       "    .dataframe tbody tr th:only-of-type {\n",
       "        vertical-align: middle;\n",
       "    }\n",
       "\n",
       "    .dataframe tbody tr th {\n",
       "        vertical-align: top;\n",
       "    }\n",
       "\n",
       "    .dataframe thead th {\n",
       "        text-align: right;\n",
       "    }\n",
       "</style>\n",
       "<table border=\"1\" class=\"dataframe\">\n",
       "  <thead>\n",
       "    <tr style=\"text-align: right;\">\n",
       "      <th></th>\n",
       "      <th>NODE_ID</th>\n",
       "      <th>NODE_TYPE</th>\n",
       "      <th>NODE_NAME</th>\n",
       "      <th>TURN_P</th>\n",
       "      <th>REMARK</th>\n",
       "      <th>USER_ID</th>\n",
       "      <th>WORKSTATE</th>\n",
       "      <th>DEPT_CODE</th>\n",
       "      <th>STNL_REG</th>\n",
       "      <th>TMPID</th>\n",
       "      <th>UPLOAD_ID</th>\n",
       "      <th>x좌표</th>\n",
       "      <th>x</th>\n",
       "      <th>y</th>\n",
       "    </tr>\n",
       "  </thead>\n",
       "  <tbody>\n",
       "    <tr>\n",
       "      <th>103523</th>\n",
       "      <td>3850288000</td>\n",
       "      <td>108</td>\n",
       "      <td>진례JC</td>\n",
       "      <td>0</td>\n",
       "      <td></td>\n",
       "      <td>mappers</td>\n",
       "      <td>5</td>\n",
       "      <td>60190</td>\n",
       "      <td>385</td>\n",
       "      <td>TMPID20170112023</td>\n",
       "      <td>mappers20170112105813</td>\n",
       "      <td>361460</td>\n",
       "      <td>361459.904</td>\n",
       "      <td>293748.353</td>\n",
       "    </tr>\n",
       "  </tbody>\n",
       "</table>\n",
       "</div>"
      ],
      "text/plain": [
       "           NODE_ID NODE_TYPE NODE_NAME TURN_P REMARK  USER_ID WORKSTATE  \\\n",
       "103523  3850288000       108      진례JC      0         mappers         5   \n",
       "\n",
       "       DEPT_CODE STNL_REG             TMPID              UPLOAD_ID     x좌표  \\\n",
       "103523     60190      385  TMPID20170112023  mappers20170112105813  361460   \n",
       "\n",
       "                 x           y  \n",
       "103523  361459.904  293748.353  "
      ]
     },
     "execution_count": 25,
     "metadata": {},
     "output_type": "execute_result"
    }
   ],
   "source": [
    "df3[df3['NODE_ID']=='3850288000']"
   ]
  },
  {
   "cell_type": "code",
   "execution_count": 47,
   "metadata": {},
   "outputs": [
    {
     "data": {
      "text/html": [
       "<div>\n",
       "<style scoped>\n",
       "    .dataframe tbody tr th:only-of-type {\n",
       "        vertical-align: middle;\n",
       "    }\n",
       "\n",
       "    .dataframe tbody tr th {\n",
       "        vertical-align: top;\n",
       "    }\n",
       "\n",
       "    .dataframe thead th {\n",
       "        text-align: right;\n",
       "    }\n",
       "</style>\n",
       "<table border=\"1\" class=\"dataframe\">\n",
       "  <thead>\n",
       "    <tr style=\"text-align: right;\">\n",
       "      <th></th>\n",
       "      <th>NODE_ID</th>\n",
       "      <th>NODE_TYPE</th>\n",
       "      <th>NODE_NAME</th>\n",
       "      <th>TURN_P</th>\n",
       "      <th>REMARK</th>\n",
       "      <th>USER_ID</th>\n",
       "      <th>WORKSTATE</th>\n",
       "      <th>DEPT_CODE</th>\n",
       "      <th>STNL_REG</th>\n",
       "      <th>TMPID</th>\n",
       "      <th>UPLOAD_ID</th>\n",
       "      <th>x좌표</th>\n",
       "      <th>y좌표</th>\n",
       "    </tr>\n",
       "  </thead>\n",
       "  <tbody>\n",
       "    <tr>\n",
       "      <th>4307</th>\n",
       "      <td>2320178100</td>\n",
       "      <td>108</td>\n",
       "      <td>한강시네폴리스IC</td>\n",
       "      <td>0</td>\n",
       "      <td></td>\n",
       "      <td>nodelinkmanager</td>\n",
       "      <td>5</td>\n",
       "      <td>50000</td>\n",
       "      <td>232</td>\n",
       "      <td>TMPID20190520104718</td>\n",
       "      <td>nodelinkmanager2019061309</td>\n",
       "      <td>126.732</td>\n",
       "      <td>37.634</td>\n",
       "    </tr>\n",
       "    <tr>\n",
       "      <th>4308</th>\n",
       "      <td>2320178200</td>\n",
       "      <td>108</td>\n",
       "      <td>한강시네폴리스IC</td>\n",
       "      <td>0</td>\n",
       "      <td></td>\n",
       "      <td>nodelinkmanager</td>\n",
       "      <td>5</td>\n",
       "      <td>50000</td>\n",
       "      <td>232</td>\n",
       "      <td>TMPID20190520104717</td>\n",
       "      <td>nodelinkmanager2019061309</td>\n",
       "      <td>126.736</td>\n",
       "      <td>37.635</td>\n",
       "    </tr>\n",
       "    <tr>\n",
       "      <th>4309</th>\n",
       "      <td>3850367900</td>\n",
       "      <td>108</td>\n",
       "      <td>한림하이패스IC(진입)</td>\n",
       "      <td>0</td>\n",
       "      <td></td>\n",
       "      <td>nodelinkmanager</td>\n",
       "      <td>5</td>\n",
       "      <td>50000</td>\n",
       "      <td>385</td>\n",
       "      <td>TMPID20190708151907</td>\n",
       "      <td>nodelinkmanager2019070817</td>\n",
       "      <td>128.810</td>\n",
       "      <td>35.296</td>\n",
       "    </tr>\n",
       "    <tr>\n",
       "      <th>4310</th>\n",
       "      <td>3850368000</td>\n",
       "      <td>108</td>\n",
       "      <td>한림하이패스IC(진출)</td>\n",
       "      <td>0</td>\n",
       "      <td></td>\n",
       "      <td>nodelinkmanager</td>\n",
       "      <td>5</td>\n",
       "      <td>50000</td>\n",
       "      <td>385</td>\n",
       "      <td>TMPID20190708151908</td>\n",
       "      <td>nodelinkmanager2019070817</td>\n",
       "      <td>128.810</td>\n",
       "      <td>35.296</td>\n",
       "    </tr>\n",
       "    <tr>\n",
       "      <th>4311</th>\n",
       "      <td>3850368400</td>\n",
       "      <td>108</td>\n",
       "      <td>한림하이패스IC</td>\n",
       "      <td>0</td>\n",
       "      <td></td>\n",
       "      <td>nodelinkmanager</td>\n",
       "      <td>5</td>\n",
       "      <td>50000</td>\n",
       "      <td>385</td>\n",
       "      <td>TMPID20190708151900</td>\n",
       "      <td>nodelinkmanager2019070817</td>\n",
       "      <td>128.814</td>\n",
       "      <td>35.295</td>\n",
       "    </tr>\n",
       "  </tbody>\n",
       "</table>\n",
       "</div>"
      ],
      "text/plain": [
       "         NODE_ID NODE_TYPE     NODE_NAME TURN_P REMARK          USER_ID  \\\n",
       "4307  2320178100       108     한강시네폴리스IC      0         nodelinkmanager   \n",
       "4308  2320178200       108     한강시네폴리스IC      0         nodelinkmanager   \n",
       "4309  3850367900       108  한림하이패스IC(진입)      0         nodelinkmanager   \n",
       "4310  3850368000       108  한림하이패스IC(진출)      0         nodelinkmanager   \n",
       "4311  3850368400       108      한림하이패스IC      0         nodelinkmanager   \n",
       "\n",
       "     WORKSTATE DEPT_CODE STNL_REG                TMPID  \\\n",
       "4307         5     50000      232  TMPID20190520104718   \n",
       "4308         5     50000      232  TMPID20190520104717   \n",
       "4309         5     50000      385  TMPID20190708151907   \n",
       "4310         5     50000      385  TMPID20190708151908   \n",
       "4311         5     50000      385  TMPID20190708151900   \n",
       "\n",
       "                      UPLOAD_ID      x좌표     y좌표  \n",
       "4307  nodelinkmanager2019061309  126.732  37.634  \n",
       "4308  nodelinkmanager2019061309  126.736  37.635  \n",
       "4309  nodelinkmanager2019070817  128.810  35.296  \n",
       "4310  nodelinkmanager2019070817  128.810  35.296  \n",
       "4311  nodelinkmanager2019070817  128.814  35.295  "
      ]
     },
     "execution_count": 47,
     "metadata": {},
     "output_type": "execute_result"
    }
   ],
   "source": [
    "df2.tail(5)"
   ]
  },
  {
   "cell_type": "code",
   "execution_count": null,
   "metadata": {},
   "outputs": [],
   "source": []
  },
  {
   "cell_type": "code",
   "execution_count": 30,
   "metadata": {},
   "outputs": [
    {
     "name": "stdout",
     "output_type": "stream",
     "text": [
      "['TURN_P', 'REMARK', 'USER_ID', 'WORKSTATE', 'DEPT_CODE', 'STNL_REG', 'TMPID', 'UPLOAD_ID', 'x좌표']\n"
     ]
    }
   ],
   "source": [
    "print(cols[3:12])"
   ]
  },
  {
   "cell_type": "code",
   "execution_count": 1,
   "metadata": {},
   "outputs": [
    {
     "name": "stdout",
     "output_type": "stream",
     "text": [
      "Collecting pyshp\n",
      "  Downloading https://files.pythonhosted.org/packages/27/16/3bf15aa864fb77845fab8007eda22c2bd67bd6c1fd13496df452c8c43621/pyshp-2.1.0.tar.gz (215kB)\n",
      "Building wheels for collected packages: pyshp\n",
      "  Building wheel for pyshp (setup.py): started\n",
      "  Building wheel for pyshp (setup.py): finished with status 'done'\n",
      "  Created wheel for pyshp: filename=pyshp-2.1.0-cp37-none-any.whl size=32613 sha256=7a7d0dbe4d961656cd9fe28405c2bdac54d39f3a5f28744269fb78760b35d176\n",
      "  Stored in directory: C:\\Users\\njh\\AppData\\Local\\pip\\Cache\\wheels\\a6\\0c\\de\\321b5192ad416b328975a2f0385f72c64db4656501eba7cc1a\n",
      "Successfully built pyshp\n",
      "Installing collected packages: pyshp\n",
      "Successfully installed pyshp-2.1.0\n",
      "Note: you may need to restart the kernel to use updated packages.\n"
     ]
    },
    {
     "name": "stderr",
     "output_type": "stream",
     "text": [
      "WARNING: You are using pip version 19.2.1, however version 19.2.2 is available.\n",
      "You should consider upgrading via the 'python -m pip install --upgrade pip' command.\n"
     ]
    }
   ],
   "source": [
    "pip install pyshp"
   ]
  },
  {
   "cell_type": "code",
   "execution_count": null,
   "metadata": {},
   "outputs": [],
   "source": []
  }
 ],
 "metadata": {
  "kernelspec": {
   "display_name": "Python 3",
   "language": "python",
   "name": "python3"
  },
  "language_info": {
   "codemirror_mode": {
    "name": "ipython",
    "version": 3
   },
   "file_extension": ".py",
   "mimetype": "text/x-python",
   "name": "python",
   "nbconvert_exporter": "python",
   "pygments_lexer": "ipython3",
   "version": "3.7.3"
  }
 },
 "nbformat": 4,
 "nbformat_minor": 2
}
