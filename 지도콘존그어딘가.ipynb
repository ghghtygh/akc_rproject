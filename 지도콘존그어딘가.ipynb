{
 "cells": [
  {
   "cell_type": "code",
   "execution_count": 144,
   "metadata": {},
   "outputs": [
    {
     "name": "stdout",
     "output_type": "stream",
     "text": [
      "100개 -> 45초 걸림\n",
      "7589개 -> 16864초 예상\n"
     ]
    }
   ],
   "source": [
    "import urllib.request\n",
    "import xml.etree.ElementTree as ET\n",
    "from urllib.parse import urlencode, quote_plus\n",
    "\n",
    "import time\n",
    "import pandas as pd\n",
    "\n",
    "url = 'http://data.ex.co.kr/openapi/vdsinfo/vdsList?'\n",
    "serviceKey = 'key=8784419864'\n",
    "m_page = 1\n",
    "# 1 : 0010CZE010  1~7589\n",
    "#range(7589)\n",
    "#i+1\n",
    "ids=[]\n",
    "ways=[]\n",
    "xx=[]\n",
    "yy=[]\n",
    "rts=[]\n",
    "rtnos=[]\n",
    "\n",
    "start =time.time()\n",
    "for i in range(m_page):\n",
    "    m_page=i+1\n",
    "    queryParams = urlencode({quote_plus('type') : 'xml',\n",
    "                             quote_plus('numOfRows') : '1',\n",
    "                             quote_plus('pageNo') : '%d'%m_page })\n",
    "    request = urllib.request.Request(url + serviceKey+'&'+ queryParams)\n",
    "    request.get_method = lambda: 'GET'\n",
    "    response_body = urllib.request.urlopen(request).read().decode(\"utf-8\")\n",
    "    tree = ET.fromstring(response_body)\n",
    "    lst = tree.findall('list')\n",
    "\n",
    "    for item in lst:\n",
    "        \n",
    "        ids.append(item.find('czId').text)\n",
    "        ways.append(item.find('directionCode').text)\n",
    "        xx.append(item.find('grs80x').text)\n",
    "        yy.append(item.find('grs80y').text)\n",
    "        rts.append(item.find('routeName').text)\n",
    "        rtnos.append(item.find('routeNo').text)\n",
    "end =time.time()\n",
    "\n",
    "print('%d개 -> %d초 걸림'%(m_page,int(end-start)))\n",
    "print('7589개 -> %d초 예상'%(7589*m_page/int(end-start)))\n",
    "#10개 -> 4초 걸림\n",
    "#7589개 -> 18972초 예상"
   ]
  },
  {
   "cell_type": "code",
   "execution_count": 145,
   "metadata": {},
   "outputs": [
    {
     "data": {
      "text/plain": [
       "4.684444444444445"
      ]
     },
     "execution_count": 145,
     "metadata": {},
     "output_type": "execute_result"
    }
   ],
   "source": [
    "16864/3600"
   ]
  },
  {
   "cell_type": "code",
   "execution_count": 151,
   "metadata": {},
   "outputs": [
    {
     "data": {
      "text/html": [
       "<div>\n",
       "<style scoped>\n",
       "    .dataframe tbody tr th:only-of-type {\n",
       "        vertical-align: middle;\n",
       "    }\n",
       "\n",
       "    .dataframe tbody tr th {\n",
       "        vertical-align: top;\n",
       "    }\n",
       "\n",
       "    .dataframe thead th {\n",
       "        text-align: right;\n",
       "    }\n",
       "</style>\n",
       "<table border=\"1\" class=\"dataframe\">\n",
       "  <thead>\n",
       "    <tr style=\"text-align: right;\">\n",
       "      <th></th>\n",
       "      <th>콘존ID</th>\n",
       "      <th>방향</th>\n",
       "      <th>grs80x</th>\n",
       "      <th>grs80y</th>\n",
       "      <th>노선번호</th>\n",
       "      <th>노선명</th>\n",
       "    </tr>\n",
       "  </thead>\n",
       "  <tbody>\n",
       "    <tr>\n",
       "      <th>0</th>\n",
       "      <td>0010CZE010</td>\n",
       "      <td>E</td>\n",
       "      <td>391265.163647</td>\n",
       "      <td>297630.026461</td>\n",
       "      <td>0010</td>\n",
       "      <td>경부선</td>\n",
       "    </tr>\n",
       "    <tr>\n",
       "      <th>1</th>\n",
       "      <td>0010CZE011</td>\n",
       "      <td>E</td>\n",
       "      <td>391642.593415</td>\n",
       "      <td>298552.164856</td>\n",
       "      <td>0010</td>\n",
       "      <td>경부선</td>\n",
       "    </tr>\n",
       "    <tr>\n",
       "      <th>2</th>\n",
       "      <td>0010CZE011</td>\n",
       "      <td>E</td>\n",
       "      <td>391873.608131</td>\n",
       "      <td>299421.834737</td>\n",
       "      <td>0010</td>\n",
       "      <td>경부선</td>\n",
       "    </tr>\n",
       "    <tr>\n",
       "      <th>3</th>\n",
       "      <td>0010CZE020</td>\n",
       "      <td>E</td>\n",
       "      <td>391448.581180</td>\n",
       "      <td>300529.001930</td>\n",
       "      <td>0010</td>\n",
       "      <td>경부선</td>\n",
       "    </tr>\n",
       "    <tr>\n",
       "      <th>4</th>\n",
       "      <td>0010CZE030</td>\n",
       "      <td>E</td>\n",
       "      <td>391067.929665</td>\n",
       "      <td>300978.024563</td>\n",
       "      <td>0010</td>\n",
       "      <td>경부선</td>\n",
       "    </tr>\n",
       "  </tbody>\n",
       "</table>\n",
       "</div>"
      ],
      "text/plain": [
       "         콘존ID 방향         grs80x         grs80y  노선번호  노선명\n",
       "0  0010CZE010  E  391265.163647  297630.026461  0010  경부선\n",
       "1  0010CZE011  E  391642.593415  298552.164856  0010  경부선\n",
       "2  0010CZE011  E  391873.608131  299421.834737  0010  경부선\n",
       "3  0010CZE020  E  391448.581180  300529.001930  0010  경부선\n",
       "4  0010CZE030  E  391067.929665  300978.024563  0010  경부선"
      ]
     },
     "execution_count": 151,
     "metadata": {},
     "output_type": "execute_result"
    }
   ],
   "source": [
    "#import pandas as pd \n",
    "import numpy as np\n",
    "df1 = pd.DataFrame()\n",
    "a=[]\n",
    "for i in range(len(ids)):\n",
    "    tmp = [ids[i],ways[i],xx[i],yy[i],rtnos[i],rts[i]]\n",
    "    a.append(tmp)\n",
    "   \n",
    "df1 = df1.append(a)\n",
    "\n",
    "df1.columns=['콘존ID','방향','grs80x','grs80y','노선번호','노선명']\n",
    "df1.head(5)"
   ]
  },
  {
   "cell_type": "code",
   "execution_count": 162,
   "metadata": {},
   "outputs": [
    {
     "data": {
      "text/plain": [
       "100"
      ]
     },
     "execution_count": 162,
     "metadata": {},
     "output_type": "execute_result"
    }
   ],
   "source": [
    "len(df1[df1['노선명']=='경부선'])"
   ]
  },
  {
   "cell_type": "code",
   "execution_count": 161,
   "metadata": {},
   "outputs": [
    {
     "name": "stdout",
     "output_type": "stream",
     "text": [
      "127.0688934553203 35.54198138473581\n",
      "961302.5606361036 1726775.5570293881\n"
     ]
    }
   ],
   "source": [
    "from pyproj import Proj, transform\n",
    "import numpy as np\n",
    "import pandas  as pd\n",
    "\n",
    "# Projection 정의\n",
    "# UTM-K\n",
    "proj_UTMK = Proj(init='epsg:5178') # UTM-K(Bassel) 도로명주소 지도 사용 중\n",
    "\n",
    "# WGS1984\n",
    "proj_WGS84 = Proj(init='epsg:4326') # Wgs84 경도/위도, GPS사용 전지구 좌표\n",
    "\n",
    "# UTM-K -> WGS84 샘플\n",
    "x1, y1 = 961114.519726,1727112.269174\n",
    "x2, y2 = transform(proj_UTMK,proj_WGS84,x1,y1)\n",
    "print(x2,y2)\n",
    "\n",
    "# WGS84 -> UTM-K 샘플\n",
    "x1, y1 = 127.07098392510115, 35.53895289091983\n",
    "x2, y2 = transform(proj_WGS84, proj_UTMK, x1, y1)\n",
    "print(x2,y2)\n",
    "\n",
    "# x, y 컬럼을 이용하여 UTM-K좌표를 WGS84로 변환한 Series데이터 반환\n",
    "def transform_utmk_to_w84(df):\n",
    "    return pd.Series(transform(proj_UTMK, proj_WGS84, df['x'], df['y']), index=['x', 'y'])\n",
    "\n",
    "df_xy = pd.DataFrame([\n",
    "                                        ['A', xx[0],yy[0]],\n",
    "                                        ['B',  xx[1],yy[1]],\n",
    "                                        ['C',  xx[2],yy[2]]\n",
    "                                    ], columns=['id', 'x', 'y'])\n",
    "\n",
    "df_xy[['x_w84', 'y_w84']] = df_xy.apply(transform_utmk_to_w84, axis=1)\n"
   ]
  },
  {
   "cell_type": "code",
   "execution_count": null,
   "metadata": {},
   "outputs": [],
   "source": [
    "        '''\n",
    "        print('콘존ID:',item.find('czId').text)\n",
    "        print('기점종점방향구분코드:',item.find('directionCode').text)\n",
    "        print('장비소속구분코드:',item.find('equipmentBelongingCode').text)\n",
    "        print('장비소속구분명:',item.find('equipmentBelongingName').text)\n",
    "        print('GRS80X좌표값:',item.find('grs80x').text)\n",
    "        print('GRS80Y좌표값:',item.find('grs80y').text)\n",
    "        print('도로등급구분코드:',item.find('roadgradeCode').text)\n",
    "        print('roadgradeName:',item.find('roadgradeName').text)\n",
    "        print('routeName:',item.find('routeName').text)\n",
    "        print('routeNo:',item.find('routeNo').text)\n",
    "        print('노선구성순번:',item.find('routeSeq').text)\n",
    "        print('지점이정:',item.find('shift').text)\n",
    "        print('VDS존유형구분코드:',item.find('vdsCode').text)\n",
    "        print('VDS존종료이정:',item.find('vdsEndShift').text)\n",
    "        print('VDS존시작이정:',item.find('vdsStartShift').text)\n",
    "        print('vdsId:',item.find('vdsId').text)\n",
    "        print('VDS존길이:',item.find('vdsLength').text)\n",
    "        print('VDS존유형구분명:',item.find('vdsName').text)\n",
    "        print('-----------------------------')\n",
    "        '''"
   ]
  },
  {
   "cell_type": "code",
   "execution_count": 48,
   "metadata": {},
   "outputs": [
    {
     "name": "stdout",
     "output_type": "stream",
     "text": [
      "---------------------------------------\n",
      "The nuumber of list: 1\n",
      "---------------------------------------\n",
      "콘존ID: 0010CZE130\n",
      "기점종점방향구분코드: E\n",
      "장비소속구분코드: 00\n",
      "장비소속구분명: 본선\n",
      "GRS80X좌표값: 351192.277797\n",
      "GRS80Y좌표값: 368364.804976\n",
      "도로등급구분코드: 101\n",
      "roadgradeName: 고속국도\n",
      "routeName: 경부선\n",
      "routeNo: 0010\n",
      "노선구성순번: 120\n",
      "지점이정: 124.60km\n",
      "VDS존유형구분코드: 1\n",
      "vdsId: 0010VDE07200\n",
      "VDS존길이: 1000.00m\n",
      "VDS존종료이정: 125.10km\n",
      "VDS존시작이정: 124.10km\n",
      "VDS존유형구분명: FTMS 본선 VDS\n",
      "-----------------------------\n"
     ]
    }
   ],
   "source": [
    "import urllib.request\n",
    "import xml.etree.ElementTree as ET\n",
    "from urllib.parse import urlencode, quote_plus\n",
    "\n",
    "url = 'http://data.ex.co.kr/openapi/vdsinfo/vdsList?'\n",
    "serviceKey = 'key=8784419864'\n",
    "queryParams = urlencode({quote_plus('type') : 'xml',\n",
    "                         quote_plus('numOfRows') : '1',\n",
    "                         quote_plus('pageNo') : '120' })\n",
    "request = urllib.request.Request(url + serviceKey+'&'+ queryParams)\n",
    "request.get_method = lambda: 'GET'\n",
    "response_body = urllib.request.urlopen(request).read().decode(\"utf-8\")\n",
    "#print(response_body)\n",
    "\n",
    "tree = ET.fromstring(response_body)\n",
    "print(\"---------------------------------------\")\n",
    "lst = tree.findall('list')\n",
    "print('The nuumber of list:', len(lst))\n",
    "print(\"---------------------------------------\")\n",
    "\n",
    "for item in lst:\n",
    "    print('콘존ID:',item.find('czId').text)\n",
    "    print('기점종점방향구분코드:',item.find('directionCode').text)\n",
    "    print('장비소속구분코드:',item.find('equipmentBelongingCode').text)\n",
    "    print('장비소속구분명:',item.find('equipmentBelongingName').text)\n",
    "    print('GRS80X좌표값:',item.find('grs80x').text)\n",
    "    print('GRS80Y좌표값:',item.find('grs80y').text)\n",
    "    print('도로등급구분코드:',item.find('roadgradeCode').text)\n",
    "    print('roadgradeName:',item.find('roadgradeName').text)\n",
    "    print('routeName:',item.find('routeName').text)\n",
    "    print('routeNo:',item.find('routeNo').text)\n",
    "    print('노선구성순번:',item.find('routeSeq').text)\n",
    "    print('지점이정:',item.find('shift').text)\n",
    "    print('VDS존유형구분코드:',item.find('vdsCode').text)\n",
    "    print('vdsId:',item.find('vdsId').text)\n",
    "    print('VDS존길이:',item.find('vdsLength').text)\n",
    "    print('VDS존종료이정:',item.find('vdsEndShift').text)\n",
    "    print('VDS존시작이정:',item.find('vdsStartShift').text)\n",
    "    print('VDS존유형구분명:',item.find('vdsName').text)\n",
    "    print('-----------------------------')\n",
    "    \n",
    "    #콘존ID: 0010CZE130\n",
    "#기점종점방향구분코드: E"
   ]
  },
  {
   "cell_type": "code",
   "execution_count": null,
   "metadata": {},
   "outputs": [],
   "source": []
  }
 ],
 "metadata": {
  "kernelspec": {
   "display_name": "Python 3",
   "language": "python",
   "name": "python3"
  },
  "language_info": {
   "codemirror_mode": {
    "name": "ipython",
    "version": 3
   },
   "file_extension": ".py",
   "mimetype": "text/x-python",
   "name": "python",
   "nbconvert_exporter": "python",
   "pygments_lexer": "ipython3",
   "version": "3.7.3"
  }
 },
 "nbformat": 4,
 "nbformat_minor": 2
}
